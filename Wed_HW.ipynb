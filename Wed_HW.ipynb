{
 "cells": [
  {
   "cell_type": "markdown",
   "metadata": {
    "id": "09G0-vjfqv-_"
   },
   "source": [
    "Click <a href='https://www.dataquest.io/blog/web-scraping-tutorial-python/'>here</a> to learn about Regular Expressions (RegEx) using Python."
   ]
  },
  {
   "cell_type": "code",
   "execution_count": null,
   "metadata": {
    "id": "XnNKbcLdqv_M"
   },
   "outputs": [],
   "source": [
    "########################\n",
    "# DO NOT RUN THIS CELL #\n",
    "########################\n",
    "\n",
    "a, X, 9, < -- ordinary characters just match themselves exactly.\n",
    ". (a period) -- matches any single character except newline '\\n'\n",
    "\\w -- matches a \"word\" character: a letter or digit or underbar [a-zA-Z0-9_].\n",
    "\\W -- matches any non-word character.\n",
    "\\b -- matches word boundary (in between a word character and a non word character)\n",
    "\\s -- matches a single whitespace character -- space, newline, return, tab\n",
    "\\S -- matches any non-whitespace character.\n",
    "\\t, \\n, \\r -- tab, newline, return\n",
    "\\d -- matches any numeric digit [0-9]\n",
    "\\D matches any non-numeric character.\n",
    "^ -- matches the beginning of the string, or specify omition of certain characters\n",
    "$ -- matches the end of the string\n",
    "\\ -- escapes special character.\n",
    "(x|y|z) matches exactly one of x, y or z.\n",
    "(x) in general is a remembered group. We can get the value of what matched by using the groups() method of the object returned by re.search.\n",
    "x? matches an optional x character (in other words, it matches an x zero or one times).\n",
    "x* matches x zero or more times.\n",
    "x+ matches x one or more times.\n",
    "x{m,n} matches an x character at least m times, but not more than n times.\n",
    "?: matches an expression but do not capture it. Non capturing group.\n",
    "?= matches a suffix but exclude it from capture. Positive lookahead.\n",
    "a(?=b) will match the \"a\" in \"ab\", but not the \"a\" in \"ac\"\n",
    "In other words, a(?=b) matches the \"a\" which is followed by the string 'b', without consuming what follows the a.\n",
    "?! matches if suffix is absent. Negative look ahead.\n",
    "a(?!b) will match the \"a\" in \"ac\", but not the \"a\" in \"ab\"\n",
    "?<= positive look behind\n",
    "[] matches for groupings of consecutive characters\n",
    "?<! negative look behind\n",
    "\n",
    "########################\n",
    "# DO NOT RUN THIS CELL #\n",
    "########################"
   ]
  },
  {
   "cell_type": "code",
   "execution_count": 81,
   "metadata": {
    "scrolled": true
   },
   "outputs": [
    {
     "data": {
      "text/plain": [
       "True"
      ]
     },
     "execution_count": 81,
     "metadata": {},
     "output_type": "execute_result"
    }
   ],
   "source": [
    "my_string = \"This is a new string\"\n",
    "\n",
    "\"is is\" in my_string"
   ]
  },
  {
   "cell_type": "code",
   "execution_count": 15,
   "metadata": {},
   "outputs": [],
   "source": [
    "strings_txt_file = \"\"\"Lucas Lang lucasl@codingtemple.com (555) 555-5555\n",
    "Joel Carter joelc@codingtemple.com 555-555-5554\"\"\""
   ]
  },
  {
   "cell_type": "code",
   "execution_count": 11,
   "metadata": {
    "scrolled": true
   },
   "outputs": [
    {
     "data": {
      "text/plain": [
       "True"
      ]
     },
     "execution_count": 11,
     "metadata": {},
     "output_type": "execute_result"
    }
   ],
   "source": [
    "\"555-555-5554\" in strings_txt_file"
   ]
  },
  {
   "cell_type": "code",
   "execution_count": null,
   "metadata": {},
   "outputs": [],
   "source": [
    "\"(555) 555-5555\"\n",
    "\"555-555-5555\"\n",
    "\"555 555-5555\""
   ]
  },
  {
   "cell_type": "markdown",
   "metadata": {
    "id": "aQbvpMJKqv_O"
   },
   "source": [
    "What are word boundaries?\n",
    "--------------------------------------------------\n",
    "Before the first character in the string, if the first character is a word character.<br>\n",
    "After the last character in the string, if the last character is a word character.<br>\n",
    "Between two characters in the string, where one is a word character and the other is not a word character<br>"
   ]
  },
  {
   "cell_type": "code",
   "execution_count": 12,
   "metadata": {},
   "outputs": [],
   "source": [
    "import re\n",
    "\n",
    "# FILE I/O\n",
    "# I/O\n",
    "# open a new data stream into a file\n",
    "file = open('./names.txt', encoding='utf-8')\n",
    "\n",
    "# read the text of the file and store it as Python data\n",
    "data = file.read()\n",
    "\n",
    "# always close the data stream\n",
    "file.close()"
   ]
  },
  {
   "cell_type": "markdown",
   "metadata": {},
   "source": [
    "### Search for names"
   ]
  },
  {
   "cell_type": "code",
   "execution_count": 15,
   "metadata": {
    "scrolled": true
   },
   "outputs": [
    {
     "data": {
      "text/plain": [
       "<re.Match object; span=(0, 7), match='Hawkins'>"
      ]
     },
     "execution_count": 15,
     "metadata": {},
     "output_type": "execute_result"
    }
   ],
   "source": [
    "# searches from beginning of string\n",
    "re.match('Hawkins', data)\n",
    "# re.match(r'')"
   ]
  },
  {
   "cell_type": "code",
   "execution_count": 16,
   "metadata": {},
   "outputs": [],
   "source": [
    "re.match('Exampleson', data)"
   ]
  },
  {
   "cell_type": "code",
   "execution_count": null,
   "metadata": {},
   "outputs": [],
   "source": []
  },
  {
   "cell_type": "code",
   "execution_count": 17,
   "metadata": {},
   "outputs": [
    {
     "data": {
      "text/plain": [
       "<re.Match object; span=(0, 7), match='Hawkins'>"
      ]
     },
     "execution_count": 17,
     "metadata": {},
     "output_type": "execute_result"
    }
   ],
   "source": [
    "re.search('Hawkins', data)"
   ]
  },
  {
   "cell_type": "code",
   "execution_count": 18,
   "metadata": {},
   "outputs": [
    {
     "data": {
      "text/plain": [
       "<re.Match object; span=(501, 511), match='Exampleson'>"
      ]
     },
     "execution_count": 18,
     "metadata": {},
     "output_type": "execute_result"
    }
   ],
   "source": [
    "re.search('Exampleson', data)"
   ]
  },
  {
   "cell_type": "code",
   "execution_count": null,
   "metadata": {},
   "outputs": [],
   "source": []
  },
  {
   "cell_type": "code",
   "execution_count": 19,
   "metadata": {},
   "outputs": [
    {
     "data": {
      "text/plain": [
       "['Hawkins']"
      ]
     },
     "execution_count": 19,
     "metadata": {},
     "output_type": "execute_result"
    }
   ],
   "source": [
    "re.findall('Hawkins', data)"
   ]
  },
  {
   "cell_type": "code",
   "execution_count": 20,
   "metadata": {
    "scrolled": true
   },
   "outputs": [
    {
     "data": {
      "text/plain": [
       "['555']"
      ]
     },
     "execution_count": 20,
     "metadata": {},
     "output_type": "execute_result"
    }
   ],
   "source": [
    "re.findall('(555) 555', data)"
   ]
  },
  {
   "cell_type": "code",
   "execution_count": 22,
   "metadata": {},
   "outputs": [
    {
     "data": {
      "text/plain": [
       "['(555)', '(555)', '(555)', '(555)', '(555)']"
      ]
     },
     "execution_count": 22,
     "metadata": {},
     "output_type": "execute_result"
    }
   ],
   "source": [
    "re.findall('\\(555\\)', data)"
   ]
  },
  {
   "cell_type": "code",
   "execution_count": null,
   "metadata": {},
   "outputs": [],
   "source": []
  },
  {
   "cell_type": "code",
   "execution_count": 24,
   "metadata": {
    "scrolled": true
   },
   "outputs": [
    {
     "data": {
      "text/plain": [
       "<re.Match object; span=(0, 7), match='Hawkins'>"
      ]
     },
     "execution_count": 24,
     "metadata": {},
     "output_type": "execute_result"
    }
   ],
   "source": [
    "re.search('\\w\\w\\w\\w\\w\\w\\w', data)"
   ]
  },
  {
   "cell_type": "code",
   "execution_count": 29,
   "metadata": {},
   "outputs": [
    {
     "data": {
      "text/plain": [
       "<re.Match object; span=(0, 5), match='Hawki'>"
      ]
     },
     "execution_count": 29,
     "metadata": {},
     "output_type": "execute_result"
    }
   ],
   "source": [
    "re.search('\\w\\w\\w\\w\\w', data)"
   ]
  },
  {
   "cell_type": "code",
   "execution_count": null,
   "metadata": {},
   "outputs": [],
   "source": []
  },
  {
   "cell_type": "code",
   "execution_count": 31,
   "metadata": {},
   "outputs": [
    {
     "data": {
      "text/plain": [
       "<re.Match object; span=(0, 7), match='Hawkins'>"
      ]
     },
     "execution_count": 31,
     "metadata": {},
     "output_type": "execute_result"
    }
   ],
   "source": [
    "re.search('\\w{7}', data)"
   ]
  },
  {
   "cell_type": "code",
   "execution_count": 34,
   "metadata": {
    "scrolled": true
   },
   "outputs": [
    {
     "data": {
      "text/plain": [
       "<re.Match object; span=(0, 5), match='Hawki'>"
      ]
     },
     "execution_count": 34,
     "metadata": {},
     "output_type": "execute_result"
    }
   ],
   "source": [
    "re.search('\\w{5}', data)"
   ]
  },
  {
   "cell_type": "code",
   "execution_count": null,
   "metadata": {},
   "outputs": [],
   "source": []
  },
  {
   "cell_type": "code",
   "execution_count": 36,
   "metadata": {},
   "outputs": [
    {
     "data": {
      "text/plain": [
       "<re.Match object; span=(0, 14), match='Hawkins, Derek'>"
      ]
     },
     "execution_count": 36,
     "metadata": {},
     "output_type": "execute_result"
    }
   ],
   "source": [
    "re.search('\\w+, \\w+', data)"
   ]
  },
  {
   "cell_type": "code",
   "execution_count": 37,
   "metadata": {},
   "outputs": [
    {
     "data": {
      "text/plain": [
       "['Hawkins, Derek',\n",
       " 'Teacher, Coding',\n",
       " 'Milliken, Connor',\n",
       " 'Teacher, Coding',\n",
       " 'Johnson, Joe',\n",
       " 'Carter, Joel',\n",
       " 'Österberg, Sven',\n",
       " 'Governor, Norrbotten',\n",
       " 'Enchanter, Killer',\n",
       " 'Butz, Ryan',\n",
       " 'CEO, Coding',\n",
       " 'Doctor, The',\n",
       " 'Lord, Gallifrey',\n",
       " 'Exampleson, Example',\n",
       " 'Example, Example',\n",
       " 'Obama, Barack',\n",
       " 'President, United',\n",
       " 'Patel, Ripal',\n",
       " 'Teacher, Coding',\n",
       " 'Vader, Darth',\n",
       " 'Lord, Galactic',\n",
       " 'Sanz, María',\n",
       " 'Minister, Spanish']"
      ]
     },
     "execution_count": 37,
     "metadata": {},
     "output_type": "execute_result"
    }
   ],
   "source": [
    "re.findall('\\w+, \\w+', data)"
   ]
  },
  {
   "cell_type": "markdown",
   "metadata": {},
   "source": [
    "### Search for phone numbers"
   ]
  },
  {
   "cell_type": "code",
   "execution_count": 40,
   "metadata": {},
   "outputs": [
    {
     "data": {
      "text/plain": [
       "<re.Match object; span=(38, 51), match='(555) 555-555'>"
      ]
     },
     "execution_count": 40,
     "metadata": {},
     "output_type": "execute_result"
    }
   ],
   "source": [
    "re.search('\\(\\d{3}\\) \\d{3}-\\d{3}', data)"
   ]
  },
  {
   "cell_type": "code",
   "execution_count": 28,
   "metadata": {
    "scrolled": true
   },
   "outputs": [
    {
     "data": {
      "text/plain": [
       "['(555) 555-555',\n",
       " '(555) 555-555',\n",
       " '(555) 555-554',\n",
       " '(555) 555-555',\n",
       " '(555) 555-444']"
      ]
     },
     "execution_count": 28,
     "metadata": {},
     "output_type": "execute_result"
    }
   ],
   "source": [
    "re.findall('\\(\\d{3}\\) \\d{3}-\\d{3}', data)"
   ]
  },
  {
   "cell_type": "code",
   "execution_count": 42,
   "metadata": {},
   "outputs": [
    {
     "data": {
      "text/plain": [
       "['555 555-555']"
      ]
     },
     "execution_count": 42,
     "metadata": {},
     "output_type": "execute_result"
    }
   ],
   "source": [
    "re.findall('\\d{3} \\d{3}-\\d{3}', data)"
   ]
  },
  {
   "cell_type": "code",
   "execution_count": 43,
   "metadata": {},
   "outputs": [
    {
     "data": {
      "text/plain": [
       "['555-555-555']"
      ]
     },
     "execution_count": 43,
     "metadata": {},
     "output_type": "execute_result"
    }
   ],
   "source": [
    "re.findall('\\d{3}-\\d{3}-\\d{3}', data)"
   ]
  },
  {
   "cell_type": "code",
   "execution_count": null,
   "metadata": {},
   "outputs": [],
   "source": []
  },
  {
   "cell_type": "code",
   "execution_count": 49,
   "metadata": {
    "scrolled": true
   },
   "outputs": [
    {
     "data": {
      "text/plain": [
       "['(555) 555-555',\n",
       " '(555) 555-555',\n",
       " '(555) 555-554',\n",
       " '(555) 555-555',\n",
       " '(555) 555-444']"
      ]
     },
     "execution_count": 49,
     "metadata": {},
     "output_type": "execute_result"
    }
   ],
   "source": [
    "re.findall('\\(\\d{3}\\) \\d{3}-\\d{3}', data)"
   ]
  },
  {
   "cell_type": "code",
   "execution_count": 51,
   "metadata": {
    "scrolled": true
   },
   "outputs": [
    {
     "data": {
      "text/plain": [
       "['(555) 555-555',\n",
       " '(555) 555-555',\n",
       " '(555) 555-554',\n",
       " '555 555-555',\n",
       " '(555) 555-555',\n",
       " '(555) 555-444']"
      ]
     },
     "execution_count": 51,
     "metadata": {},
     "output_type": "execute_result"
    }
   ],
   "source": [
    "re.findall('\\(?\\d{3}\\)? \\d{3}-\\d{3}', data)"
   ]
  },
  {
   "cell_type": "code",
   "execution_count": 36,
   "metadata": {
    "scrolled": true
   },
   "outputs": [
    {
     "data": {
      "text/plain": [
       "['(555) 555-5555',\n",
       " '(555) 555-5554',\n",
       " '(555) 555-5543',\n",
       " '555-555-5552',\n",
       " '555 555-5551',\n",
       " '(555) 555-5553',\n",
       " '(555) 555-4444']"
      ]
     },
     "execution_count": 36,
     "metadata": {},
     "output_type": "execute_result"
    }
   ],
   "source": [
    "re.findall('\\(?\\d{3}\\)?\\s?-?\\d{3}-\\d{4}', data)"
   ]
  },
  {
   "cell_type": "markdown",
   "metadata": {
    "id": "_jhz8AUKqv_X"
   },
   "source": [
    "<strong>Exercise 1</strong>:<br>\n",
    "Write a function that checks for n number of consecutive digits and returns the match"
   ]
  },
  {
   "cell_type": "code",
   "execution_count": 54,
   "metadata": {},
   "outputs": [
    {
     "data": {
      "text/plain": [
       "<re.Match object; span=(405, 407), match='43'>"
      ]
     },
     "execution_count": 54,
     "metadata": {},
     "output_type": "execute_result"
    }
   ],
   "source": [
    "def find_digits(n, searchable_text):\n",
    "    return re.search(fr'\\d{n}', searchable_text)\n",
    "\n",
    "find_digits(3, data)"
   ]
  },
  {
   "cell_type": "code",
   "execution_count": 58,
   "metadata": {},
   "outputs": [
    {
     "data": {
      "text/plain": [
       "<re.Match object; span=(39, 42), match='555'>"
      ]
     },
     "execution_count": 58,
     "metadata": {},
     "output_type": "execute_result"
    }
   ],
   "source": [
    "def find_digits(n, searchable_text):\n",
    "    return re.search(fr'\\d{{{n}}}', searchable_text)\n",
    "\n",
    "find_digits(3, data)"
   ]
  },
  {
   "cell_type": "code",
   "execution_count": null,
   "metadata": {},
   "outputs": [],
   "source": []
  },
  {
   "cell_type": "code",
   "execution_count": 61,
   "metadata": {},
   "outputs": [],
   "source": [
    "phone_numbers = \"(555) 555-5555 (555) +1 (555) 555-5548 (555) 555-5554 555-555-5553 555-555-5552 555-555-5551 555 555-5550 555 555-5549\""
   ]
  },
  {
   "cell_type": "code",
   "execution_count": 67,
   "metadata": {
    "scrolled": true
   },
   "outputs": [
    {
     "data": {
      "text/plain": [
       "['(555) 555-5555',\n",
       " '(555) 555-5548',\n",
       " '(555) 555-5554',\n",
       " '555-555-5553',\n",
       " '555-555-5552',\n",
       " '555-555-5551',\n",
       " '555 555-5550',\n",
       " '555 555-5549']"
      ]
     },
     "execution_count": 67,
     "metadata": {},
     "output_type": "execute_result"
    }
   ],
   "source": [
    "re.findall(r'\\(?\\d{3}\\)?\\s?-?\\d{3}-\\d{4}', phone_numbers)"
   ]
  },
  {
   "cell_type": "code",
   "execution_count": 70,
   "metadata": {
    "scrolled": true
   },
   "outputs": [
    {
     "data": {
      "text/plain": [
       "['(555) 555-5555',\n",
       " '+1 (555) 555-5548',\n",
       " ' (555) 555-5554',\n",
       " ' 555-555-5553',\n",
       " ' 555-555-5552',\n",
       " ' 555-555-5551',\n",
       " ' 555 555-5550',\n",
       " ' 555 555-5549']"
      ]
     },
     "execution_count": 70,
     "metadata": {},
     "output_type": "execute_result"
    }
   ],
   "source": [
    "# phone numbers with country code\n",
    "re.findall(r'\\+?\\d?\\s?\\(?\\d{3}\\)?\\s?-?\\d{3}-\\d{4}', phone_numbers)"
   ]
  },
  {
   "cell_type": "code",
   "execution_count": null,
   "metadata": {},
   "outputs": [],
   "source": []
  },
  {
   "cell_type": "markdown",
   "metadata": {},
   "source": [
    "### Search for email addresses"
   ]
  },
  {
   "cell_type": "code",
   "execution_count": 75,
   "metadata": {},
   "outputs": [
    {
     "data": {
      "text/plain": [
       "['derek@codingtemple.com',\n",
       " 'connor@codingtemple.com',\n",
       " 'joejohnson@codingtemple.com',\n",
       " 'governor@norrbotten.co.se',\n",
       " 'tim@killerrabbit.com',\n",
       " 'ryanb@codingtemple.com',\n",
       " 'doctor+companion@tardis.co.uk',\n",
       " 'me@example.com',\n",
       " 'president.44@us.gov',\n",
       " 'ripalp@codingtemple.com',\n",
       " 'vader@empire.gov',\n",
       " 'mtfvs@spain.gov']"
      ]
     },
     "execution_count": 75,
     "metadata": {},
     "output_type": "execute_result"
    }
   ],
   "source": [
    "re.findall(r'[\\d\\w\\'-+.]+@[-.\\d\\w]+', data)"
   ]
  },
  {
   "cell_type": "markdown",
   "metadata": {},
   "source": [
    "### Search for Twitter handles"
   ]
  },
  {
   "cell_type": "code",
   "execution_count": 81,
   "metadata": {
    "scrolled": true
   },
   "outputs": [
    {
     "data": {
      "text/plain": [
       "['@derekhawkins',\n",
       " '@sverik',\n",
       " '@ryanbutz',\n",
       " '@example',\n",
       " '@potus44',\n",
       " '@ripalp',\n",
       " '@darthvader']"
      ]
     },
     "execution_count": 81,
     "metadata": {},
     "output_type": "execute_result"
    }
   ],
   "source": [
    "[i[1:] for i in re.findall(r'\\s+@[-.\\d\\w]+', data)]"
   ]
  },
  {
   "cell_type": "code",
   "execution_count": 97,
   "metadata": {
    "scrolled": false
   },
   "outputs": [
    {
     "data": {
      "text/plain": [
       "['@derekhawkins',\n",
       " '@sverik',\n",
       " '@ryanbutz',\n",
       " '@example',\n",
       " '@potus44',\n",
       " '@ripalp',\n",
       " '@darthvader']"
      ]
     },
     "execution_count": 97,
     "metadata": {},
     "output_type": "execute_result"
    }
   ],
   "source": [
    "[i[1:] for i in re.findall(r'\\s+@[-.\\d\\w]+', data)]"
   ]
  },
  {
   "cell_type": "code",
   "execution_count": 102,
   "metadata": {},
   "outputs": [
    {
     "data": {
      "text/plain": [
       "['@derekhawkins',\n",
       " '@sverik',\n",
       " '@ryanbutz',\n",
       " '@example',\n",
       " '@potus44',\n",
       " '@ripalp',\n",
       " '@darthvader']"
      ]
     },
     "execution_count": 102,
     "metadata": {},
     "output_type": "execute_result"
    }
   ],
   "source": [
    "re.findall(r'(?<=\\t)+@[-.\\d\\w]+', data)"
   ]
  },
  {
   "cell_type": "code",
   "execution_count": null,
   "metadata": {},
   "outputs": [],
   "source": []
  },
  {
   "cell_type": "code",
   "execution_count": 110,
   "metadata": {},
   "outputs": [],
   "source": [
    "information = \"\"\"\n",
    "Patel, Ripal : ripalp@codingtemple.com : 555 555-5555\n",
    "Carter, Joel : joelc@codingtemple.com : (555) 555-5555\n",
    "Girolamo, Frank : frankg@codingtemple.com : +1 (555) 555-5555\n",
    "Stanton, Brian : brians@ilstu.edu : 555-555-5555\n",
    "Castle, Lu : lucasl@codingtemple.com : (555) 555-5555\n",
    "Butz, Ryan : ryanb@codingtemple.edu : +1 (555) 555-5555\n",
    "\"\"\""
   ]
  },
  {
   "cell_type": "code",
   "execution_count": 123,
   "metadata": {
    "scrolled": true
   },
   "outputs": [
    {
     "data": {
      "text/plain": [
       "['ripalp@codingtemple.com',\n",
       " 'joelc@codingtemple.com',\n",
       " 'frankg@codingtemple.com',\n",
       " 'lucasl@codingtemple.com']"
      ]
     },
     "execution_count": 123,
     "metadata": {},
     "output_type": "execute_result"
    }
   ],
   "source": [
    "re.findall(r'[\\d\\w\\'-+.]+@codingtemple.com', information)"
   ]
  },
  {
   "cell_type": "code",
   "execution_count": null,
   "metadata": {},
   "outputs": [],
   "source": []
  },
  {
   "cell_type": "code",
   "execution_count": null,
   "metadata": {},
   "outputs": [],
   "source": [
    "# VERBOSE - re.X\n",
    "# MULTILINE - re.M\n",
    "# IGNORECASE - re.I"
   ]
  },
  {
   "cell_type": "code",
   "execution_count": 148,
   "metadata": {
    "scrolled": false
   },
   "outputs": [
    {
     "data": {
      "text/plain": [
       "[('Patel, Ripal', 'ripalp@codingtemple.com', '555 555-5555'),\n",
       " ('Carter, Joel', 'joelc@codingtemple.com', '(555) 555-5555'),\n",
       " ('Girolamo, Frank', 'frankg@codingtemple.com', '+1 (555) 555-5555'),\n",
       " ('Stanton, Brian', 'brians@ilstu.edu', '555-555-5555'),\n",
       " ('Castle, Lu', 'lucasl@codingtemple.com', '(555) 555-5555'),\n",
       " ('Butz, Ryan', 'ryanb@codingtemple.edu', '+1 (555) 555-5555')]"
      ]
     },
     "execution_count": 148,
     "metadata": {},
     "output_type": "execute_result"
    }
   ],
   "source": [
    "info = re.findall(r'''\n",
    "    (\\w+,\\s\\w+)                       # last name, first_name\n",
    "    \\s:\\s\n",
    "    ([\\d\\w\\'-+.]+@[-.\\w\\d]+)          # email\n",
    "    \\s:\\s\n",
    "    (\\+?\\d?\\s?\\(?\\d{3}\\)?\\s?-?\\d{3}-\\d{4})\n",
    "''', information, re.X)\n",
    "\n",
    "info"
   ]
  },
  {
   "cell_type": "code",
   "execution_count": 153,
   "metadata": {
    "scrolled": true
   },
   "outputs": [
    {
     "name": "stdout",
     "output_type": "stream",
     "text": [
      "Name: Patel, Ripal\n",
      "Email: ripalp@codingtemple.com\n",
      "Phone: 555 555-5555\n",
      "\n",
      "Name: Carter, Joel\n",
      "Email: joelc@codingtemple.com\n",
      "Phone: (555) 555-5555\n",
      "\n",
      "Name: Girolamo, Frank\n",
      "Email: frankg@codingtemple.com\n",
      "Phone: +1 (555) 555-5555\n",
      "\n",
      "Name: Stanton, Brian\n",
      "Email: brians@ilstu.edu\n",
      "Phone: 555-555-5555\n",
      "\n",
      "Name: Castle, Lu\n",
      "Email: lucasl@codingtemple.com\n",
      "Phone: (555) 555-5555\n",
      "\n",
      "Name: Butz, Ryan\n",
      "Email: ryanb@codingtemple.edu\n",
      "Phone: +1 (555) 555-5555\n",
      "\n"
     ]
    }
   ],
   "source": [
    "people = []\n",
    "\n",
    "for person in info:\n",
    "    person_dict = {\n",
    "        'name': person[0],\n",
    "        'email': person[1],\n",
    "        'phone': person[2]\n",
    "    }\n",
    "    people.append(person_dict)\n",
    "    \n",
    "for p in people:\n",
    "    print(f\"\"\"Name: {p['name']}\n",
    "Email: {p['email']}\n",
    "Phone: {p['phone']}\\n\"\"\")"
   ]
  },
  {
   "cell_type": "code",
   "execution_count": null,
   "metadata": {},
   "outputs": [],
   "source": []
  },
  {
   "cell_type": "code",
   "execution_count": 164,
   "metadata": {},
   "outputs": [],
   "source": [
    "info_compiler = re.compile(r'''\n",
    "    (?P<name>\\w+,\\s\\w+)                                # last name, first_name\n",
    "    \\s:\\s\n",
    "    (?P<email>[\\d\\w\\'-+.]+@[-.\\w\\d]+)                  # email\n",
    "    \\s:\\s\n",
    "    (?P<phone>\\+?\\d?\\s?\\(?\\d{3}\\)?\\s?-?\\d{3}-\\d{4})    # phone\n",
    "''', re.X)"
   ]
  },
  {
   "cell_type": "code",
   "execution_count": 165,
   "metadata": {
    "scrolled": true
   },
   "outputs": [
    {
     "name": "stdout",
     "output_type": "stream",
     "text": [
      "Name: Patel, Ripal\n",
      "Email: ripalp@codingtemple.com\n",
      "Phone: 555 555-5555\n",
      "\n",
      "Name: Carter, Joel\n",
      "Email: joelc@codingtemple.com\n",
      "Phone: (555) 555-5555\n",
      "\n",
      "Name: Girolamo, Frank\n",
      "Email: frankg@codingtemple.com\n",
      "Phone: +1 (555) 555-5555\n",
      "\n",
      "Name: Stanton, Brian\n",
      "Email: brians@ilstu.edu\n",
      "Phone: 555-555-5555\n",
      "\n",
      "Name: Castle, Lu\n",
      "Email: lucasl@codingtemple.com\n",
      "Phone: (555) 555-5555\n",
      "\n",
      "Name: Butz, Ryan\n",
      "Email: ryanb@codingtemple.edu\n",
      "Phone: +1 (555) 555-5555\n",
      "\n"
     ]
    }
   ],
   "source": [
    "for p in info_compiler.finditer(information):\n",
    "    print(f'''Name: {p.group('name')}\n",
    "Email: {p.group('email')}\n",
    "Phone: {p.group('phone')}\\n''')"
   ]
  },
  {
   "cell_type": "code",
   "execution_count": 166,
   "metadata": {},
   "outputs": [],
   "source": [
    "newer_information = \"\"\"\n",
    "Hawkins, Derek : derekh@codingtemple.com : 555-555-5555\n",
    "Davis, Miles : milesd@codingtemple.com : (555) 555-5555\n",
    "Davitt, Sam : samd@codingtemple.edu : +1 (555) 555-5555\n",
    "\"\"\""
   ]
  },
  {
   "cell_type": "code",
   "execution_count": 171,
   "metadata": {},
   "outputs": [],
   "source": [
    "def pull_intake_data(some_text_data):\n",
    "    for p in info_compiler.finditer(some_text_data):\n",
    "        print(f'''Name: {p.group('name')}\n",
    "Email: {p.group('email')}\n",
    "Phone: {p.group('phone')}\\n''')"
   ]
  },
  {
   "cell_type": "code",
   "execution_count": 172,
   "metadata": {
    "scrolled": true
   },
   "outputs": [
    {
     "name": "stdout",
     "output_type": "stream",
     "text": [
      "Name: Hawkins, Derek\n",
      "Email: derekh@codingtemple.com\n",
      "Phone: 555-555-5555\n",
      "\n",
      "Name: Davis, Miles\n",
      "Email: milesd@codingtemple.com\n",
      "Phone: (555) 555-5555\n",
      "\n",
      "Name: Davitt, Sam\n",
      "Email: samd@codingtemple.edu\n",
      "Phone: +1 (555) 555-5555\n",
      "\n"
     ]
    }
   ],
   "source": [
    "pull_intake_data(newer_information)"
   ]
  },
  {
   "cell_type": "code",
   "execution_count": 173,
   "metadata": {},
   "outputs": [
    {
     "name": "stdout",
     "output_type": "stream",
     "text": [
      "Name: Patel, Ripal\n",
      "Email: ripalp@codingtemple.com\n",
      "Phone: 555 555-5555\n",
      "\n",
      "Name: Carter, Joel\n",
      "Email: joelc@codingtemple.com\n",
      "Phone: (555) 555-5555\n",
      "\n",
      "Name: Girolamo, Frank\n",
      "Email: frankg@codingtemple.com\n",
      "Phone: +1 (555) 555-5555\n",
      "\n",
      "Name: Stanton, Brian\n",
      "Email: brians@ilstu.edu\n",
      "Phone: 555-555-5555\n",
      "\n",
      "Name: Castle, Lu\n",
      "Email: lucasl@codingtemple.com\n",
      "Phone: (555) 555-5555\n",
      "\n",
      "Name: Butz, Ryan\n",
      "Email: ryanb@codingtemple.edu\n",
      "Phone: +1 (555) 555-5555\n",
      "\n"
     ]
    }
   ],
   "source": [
    "pull_intake_data(information)"
   ]
  },
  {
   "cell_type": "markdown",
   "metadata": {
    "id": "_jhz8AUKqv_X"
   },
   "source": [
    "<strong>Exercise 2</strong>:<br>\n",
    "Use Regular Expressions to pull the last phone number with the country code in the list using .findall()"
   ]
  },
  {
   "cell_type": "code",
   "execution_count": 175,
   "metadata": {},
   "outputs": [],
   "source": [
    "# done"
   ]
  },
  {
   "cell_type": "markdown",
   "metadata": {
    "id": "9OdDhA0Yqv_i"
   },
   "source": [
    "##### Exercise 2:\n",
    "\n",
    "Write a function using regular expressions to find the domain name in the given email addresses (and return None for the invalid email addresses)<br><b>HINT: Use '|' for either or</b>"
   ]
  },
  {
   "cell_type": "code",
   "execution_count": 174,
   "metadata": {},
   "outputs": [],
   "source": [
    "# done"
   ]
  },
  {
   "cell_type": "markdown",
   "metadata": {
    "id": "GrUS6toGqv_i"
   },
   "source": [
    "##### Exercise 3: \n",
    "\n",
    "Use a regular expression to find every number in the given string"
   ]
  },
  {
   "cell_type": "code",
   "execution_count": null,
   "metadata": {},
   "outputs": [],
   "source": [
    "# done"
   ]
  },
  {
   "cell_type": "markdown",
   "metadata": {
    "id": "5PaSgzNfqv_j"
   },
   "source": [
    "### Homework Exercise <br>\n",
    "<p>Print each persons name and twitter handle etc., using groups, should look like:</p>"
   ]
  },
  {
   "cell_type": "code",
   "execution_count": 98,
   "metadata": {
    "id": "uCqCIM4wqv_f"
   },
   "outputs": [
    {
     "name": "stdout",
     "output_type": "stream",
     "text": [
      "[('Hawkins, Derek', 'derek@codingtemple.com', '(555) 555-5555', ''), ('Milliken, Connor', 'connor@codingtemple.com', '(555) 555-5554', ''), ('Johnson, Joe', 'joejohnson@codingtemple.com', '', 'Carter, Joel'), (', Tim', 'tim@killerrabbit.com', '', 'Enchanter, Killer Rabbit Cave'), ('Butz, Ryan', 'ryanb@codingtemple.com', '(555) 555-5543', ''), ('Doctor, The', 'doctor+companion@tardis.co.uk', '', 'Time Lord, Gallifrey'), ('Exampleson, Example', 'me@example.com', '555-555-5552', ''), ('Obama, Barack', 'president.44@us.gov', '555 555-5551', ''), ('Patel, Ripal', 'ripalp@codingtemple.com', '(555) 555-5553', ''), ('Fernández de la Vega Sanz, María Teresa', 'mtfvs@spain.gov', '', 'First Deputy Prime Minister, Spanish Govt')]\n"
     ]
    }
   ],
   "source": [
    "import re\n",
    "file = open('./names.txt', encoding='utf-8')\n",
    "data = file.read()\n",
    "file.close()\n",
    "contact_list = re.findall(r'''\n",
    "     ([\\w+ \\w+]*, [\\w \\w]*)\n",
    "     \n",
    "     \\s+([\\d\\w\\'-+.]+@[-.\\d\\w]+)\n",
    "     \\s+(\\(?\\d{3}\\)?\\s?-?\\d{3}-\\d{4})?\n",
    "     ([\\w+ \\w+]*,[ \\w]+)?\n",
    "     \n",
    "     # I'm so lost, please help me god\n",
    " ''', data, re.X)\n",
    "print(contact_list)"
   ]
  }
 ],
 "metadata": {
  "colab": {
   "name": "Regular Expressions.ipynb",
   "provenance": []
  },
  "kernelspec": {
   "display_name": "Python 3 (ipykernel)",
   "language": "python",
   "name": "python3"
  },
  "language_info": {
   "codemirror_mode": {
    "name": "ipython",
    "version": 3
   },
   "file_extension": ".py",
   "mimetype": "text/x-python",
   "name": "python",
   "nbconvert_exporter": "python",
   "pygments_lexer": "ipython3",
   "version": "3.9.7"
  }
 },
 "nbformat": 4,
 "nbformat_minor": 1
}
